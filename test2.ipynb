{
 "cells": [
  {
   "cell_type": "code",
   "execution_count": 4,
   "metadata": {},
   "outputs": [],
   "source": [
    "import sys\n",
    "import pandas as pd\n",
    "from numpy import split\n",
    "import numpy as np\n",
    "\n",
    "sys.path.append('/Users/yuksehyun/Desktop/ko-flan/task'  )\n",
    "\n",
    "from base import BaseGenerator\n",
    "from datasets import load_dataset\n",
    "\n"
   ]
  },
  {
   "cell_type": "code",
   "execution_count": 5,
   "metadata": {},
   "outputs": [
    {
     "name": "stdout",
     "output_type": "stream",
     "text": [
      "Downloading and preparing dataset klue/nli to /Users/yuksehyun/.cache/huggingface/datasets/klue/nli/1.0.0/e0fc3bc3de3eb03be2c92d72fd04a60ecc71903f821619cb28ca0e1e29e4233e...\n"
     ]
    },
    {
     "data": {
      "application/vnd.jupyter.widget-view+json": {
       "model_id": "cff81abefd834794a94c17e087fa15c3",
       "version_major": 2,
       "version_minor": 0
      },
      "text/plain": [
       "Downloading data:   0%|          | 0.00/1.26M [00:00<?, ?B/s]"
      ]
     },
     "metadata": {},
     "output_type": "display_data"
    },
    {
     "data": {
      "application/vnd.jupyter.widget-view+json": {
       "model_id": "cff2be5da44e4027a9eedb96a93ea25a",
       "version_major": 2,
       "version_minor": 0
      },
      "text/plain": [
       "Generating train split:   0%|          | 0/24998 [00:00<?, ? examples/s]"
      ]
     },
     "metadata": {},
     "output_type": "display_data"
    },
    {
     "data": {
      "application/vnd.jupyter.widget-view+json": {
       "model_id": "b6ba8e2de6064975baac769c71b39191",
       "version_major": 2,
       "version_minor": 0
      },
      "text/plain": [
       "Generating validation split:   0%|          | 0/3000 [00:00<?, ? examples/s]"
      ]
     },
     "metadata": {},
     "output_type": "display_data"
    },
    {
     "name": "stdout",
     "output_type": "stream",
     "text": [
      "Dataset klue downloaded and prepared to /Users/yuksehyun/.cache/huggingface/datasets/klue/nli/1.0.0/e0fc3bc3de3eb03be2c92d72fd04a60ecc71903f821619cb28ca0e1e29e4233e. Subsequent calls will reuse this data.\n"
     ]
    }
   ],
   "source": [
    "\n",
    "dataset = load_dataset(\"klue\",'nli', split=\"train\")"
   ]
  },
  {
   "cell_type": "code",
   "execution_count": 100,
   "metadata": {},
   "outputs": [],
   "source": [
    "df = pd.DataFrame(dataset)"
   ]
  },
  {
   "cell_type": "code",
   "execution_count": 101,
   "metadata": {},
   "outputs": [
    {
     "data": {
      "text/html": [
       "<div>\n",
       "<style scoped>\n",
       "    .dataframe tbody tr th:only-of-type {\n",
       "        vertical-align: middle;\n",
       "    }\n",
       "\n",
       "    .dataframe tbody tr th {\n",
       "        vertical-align: top;\n",
       "    }\n",
       "\n",
       "    .dataframe thead th {\n",
       "        text-align: right;\n",
       "    }\n",
       "</style>\n",
       "<table border=\"1\" class=\"dataframe\">\n",
       "  <thead>\n",
       "    <tr style=\"text-align: right;\">\n",
       "      <th></th>\n",
       "      <th>guid</th>\n",
       "      <th>source</th>\n",
       "      <th>premise</th>\n",
       "      <th>hypothesis</th>\n",
       "      <th>label</th>\n",
       "    </tr>\n",
       "  </thead>\n",
       "  <tbody>\n",
       "    <tr>\n",
       "      <th>0</th>\n",
       "      <td>klue-nli-v1_train_00000</td>\n",
       "      <td>NSMC</td>\n",
       "      <td>힛걸 진심 최고다 그 어떤 히어로보다 멋지다</td>\n",
       "      <td>힛걸 진심 최고로 멋지다.</td>\n",
       "      <td>0</td>\n",
       "    </tr>\n",
       "    <tr>\n",
       "      <th>1</th>\n",
       "      <td>klue-nli-v1_train_00001</td>\n",
       "      <td>NSMC</td>\n",
       "      <td>100분간 잘껄 그래도 소닉붐땜에 2점준다</td>\n",
       "      <td>100분간 잤다.</td>\n",
       "      <td>2</td>\n",
       "    </tr>\n",
       "    <tr>\n",
       "      <th>2</th>\n",
       "      <td>klue-nli-v1_train_00002</td>\n",
       "      <td>NSMC</td>\n",
       "      <td>100분간 잘껄 그래도 소닉붐땜에 2점준다</td>\n",
       "      <td>소닉붐이 정말 멋있었다.</td>\n",
       "      <td>1</td>\n",
       "    </tr>\n",
       "    <tr>\n",
       "      <th>3</th>\n",
       "      <td>klue-nli-v1_train_00003</td>\n",
       "      <td>NSMC</td>\n",
       "      <td>100분간 잘껄 그래도 소닉붐땜에 2점준다</td>\n",
       "      <td>100분간 자는게 더 나았을 것 같다.</td>\n",
       "      <td>1</td>\n",
       "    </tr>\n",
       "    <tr>\n",
       "      <th>4</th>\n",
       "      <td>klue-nli-v1_train_00004</td>\n",
       "      <td>airbnb</td>\n",
       "      <td>101빌딩 근처에 나름 즐길거리가 많습니다.</td>\n",
       "      <td>101빌딩 근처에서 즐길거리 찾기는 어렵습니다.</td>\n",
       "      <td>2</td>\n",
       "    </tr>\n",
       "  </tbody>\n",
       "</table>\n",
       "</div>"
      ],
      "text/plain": [
       "                      guid  source                   premise  \\\n",
       "0  klue-nli-v1_train_00000    NSMC  힛걸 진심 최고다 그 어떤 히어로보다 멋지다   \n",
       "1  klue-nli-v1_train_00001    NSMC   100분간 잘껄 그래도 소닉붐땜에 2점준다   \n",
       "2  klue-nli-v1_train_00002    NSMC   100분간 잘껄 그래도 소닉붐땜에 2점준다   \n",
       "3  klue-nli-v1_train_00003    NSMC   100분간 잘껄 그래도 소닉붐땜에 2점준다   \n",
       "4  klue-nli-v1_train_00004  airbnb  101빌딩 근처에 나름 즐길거리가 많습니다.   \n",
       "\n",
       "                   hypothesis  label  \n",
       "0              힛걸 진심 최고로 멋지다.      0  \n",
       "1                   100분간 잤다.      2  \n",
       "2               소닉붐이 정말 멋있었다.      1  \n",
       "3       100분간 자는게 더 나았을 것 같다.      1  \n",
       "4  101빌딩 근처에서 즐길거리 찾기는 어렵습니다.      2  "
      ]
     },
     "execution_count": 101,
     "metadata": {},
     "output_type": "execute_result"
    }
   ],
   "source": [
    "df.head()"
   ]
  },
  {
   "cell_type": "code",
   "execution_count": 102,
   "metadata": {},
   "outputs": [],
   "source": [
    "drop_df = df.drop(df[df['label']==1].index)"
   ]
  },
  {
   "cell_type": "code",
   "execution_count": 103,
   "metadata": {},
   "outputs": [
    {
     "data": {
      "text/html": [
       "<div>\n",
       "<style scoped>\n",
       "    .dataframe tbody tr th:only-of-type {\n",
       "        vertical-align: middle;\n",
       "    }\n",
       "\n",
       "    .dataframe tbody tr th {\n",
       "        vertical-align: top;\n",
       "    }\n",
       "\n",
       "    .dataframe thead th {\n",
       "        text-align: right;\n",
       "    }\n",
       "</style>\n",
       "<table border=\"1\" class=\"dataframe\">\n",
       "  <thead>\n",
       "    <tr style=\"text-align: right;\">\n",
       "      <th></th>\n",
       "      <th>guid</th>\n",
       "      <th>source</th>\n",
       "      <th>premise</th>\n",
       "      <th>hypothesis</th>\n",
       "      <th>label</th>\n",
       "    </tr>\n",
       "  </thead>\n",
       "  <tbody>\n",
       "    <tr>\n",
       "      <th>0</th>\n",
       "      <td>klue-nli-v1_train_00000</td>\n",
       "      <td>NSMC</td>\n",
       "      <td>힛걸 진심 최고다 그 어떤 히어로보다 멋지다</td>\n",
       "      <td>힛걸 진심 최고로 멋지다.</td>\n",
       "      <td>0</td>\n",
       "    </tr>\n",
       "    <tr>\n",
       "      <th>1</th>\n",
       "      <td>klue-nli-v1_train_00001</td>\n",
       "      <td>NSMC</td>\n",
       "      <td>100분간 잘껄 그래도 소닉붐땜에 2점준다</td>\n",
       "      <td>100분간 잤다.</td>\n",
       "      <td>2</td>\n",
       "    </tr>\n",
       "    <tr>\n",
       "      <th>4</th>\n",
       "      <td>klue-nli-v1_train_00004</td>\n",
       "      <td>airbnb</td>\n",
       "      <td>101빌딩 근처에 나름 즐길거리가 많습니다.</td>\n",
       "      <td>101빌딩 근처에서 즐길거리 찾기는 어렵습니다.</td>\n",
       "      <td>2</td>\n",
       "    </tr>\n",
       "    <tr>\n",
       "      <th>6</th>\n",
       "      <td>klue-nli-v1_train_00006</td>\n",
       "      <td>airbnb</td>\n",
       "      <td>101빌딩 근처에 나름 즐길거리가 많습니다.</td>\n",
       "      <td>101빌딩 부근에서는 여러가지를 즐길수 있습니다.</td>\n",
       "      <td>0</td>\n",
       "    </tr>\n",
       "    <tr>\n",
       "      <th>7</th>\n",
       "      <td>klue-nli-v1_train_00007</td>\n",
       "      <td>wikipedia</td>\n",
       "      <td>10년 만에 찾는 피터를 웬디는 따뜻하게 맞이하고 피터는 성공리에 연설을 마치는데 ...</td>\n",
       "      <td>웬디는 피터를 차갑게 맞이했다.</td>\n",
       "      <td>2</td>\n",
       "    </tr>\n",
       "    <tr>\n",
       "      <th>...</th>\n",
       "      <td>...</td>\n",
       "      <td>...</td>\n",
       "      <td>...</td>\n",
       "      <td>...</td>\n",
       "      <td>...</td>\n",
       "    </tr>\n",
       "    <tr>\n",
       "      <th>24991</th>\n",
       "      <td>klue-nli-v1_train_24991</td>\n",
       "      <td>NSMC</td>\n",
       "      <td>히틀러와 당시 독일의 상황 속에 들어간 듯 하다.</td>\n",
       "      <td>당시 독일의 상황을 간접적으로 느낀 듯 하다.</td>\n",
       "      <td>0</td>\n",
       "    </tr>\n",
       "    <tr>\n",
       "      <th>24992</th>\n",
       "      <td>klue-nli-v1_train_24992</td>\n",
       "      <td>NSMC</td>\n",
       "      <td>히틀러와 당시 독일의 상황 속에 들어간 듯 하다.</td>\n",
       "      <td>당시 독일의 상황 속에 들어간 듯 하다.</td>\n",
       "      <td>0</td>\n",
       "    </tr>\n",
       "    <tr>\n",
       "      <th>24993</th>\n",
       "      <td>klue-nli-v1_train_24993</td>\n",
       "      <td>wikitree</td>\n",
       "      <td>힐링푸드 전문가 양성 교육 참여, 개발 음식 활용 등의 혜택도 주어진다.</td>\n",
       "      <td>개발 음식 활용 혜택만 주어진다.</td>\n",
       "      <td>2</td>\n",
       "    </tr>\n",
       "    <tr>\n",
       "      <th>24995</th>\n",
       "      <td>klue-nli-v1_train_24995</td>\n",
       "      <td>wikitree</td>\n",
       "      <td>힐링푸드 전문가 양성 교육 참여, 개발 음식 활용 등의 혜택도 주어진다.</td>\n",
       "      <td>혜택에는 힐링푸드 전문가 양성 교육 참여가 있다.</td>\n",
       "      <td>0</td>\n",
       "    </tr>\n",
       "    <tr>\n",
       "      <th>24996</th>\n",
       "      <td>klue-nli-v1_train_24996</td>\n",
       "      <td>NSMC</td>\n",
       "      <td>힛걸 진심 최고다 그 어떤 히어로보다 멋지다</td>\n",
       "      <td>힛걸 그 어떤 히어로보다 별로다.</td>\n",
       "      <td>2</td>\n",
       "    </tr>\n",
       "  </tbody>\n",
       "</table>\n",
       "<p>17050 rows × 5 columns</p>\n",
       "</div>"
      ],
      "text/plain": [
       "                          guid     source  \\\n",
       "0      klue-nli-v1_train_00000       NSMC   \n",
       "1      klue-nli-v1_train_00001       NSMC   \n",
       "4      klue-nli-v1_train_00004     airbnb   \n",
       "6      klue-nli-v1_train_00006     airbnb   \n",
       "7      klue-nli-v1_train_00007  wikipedia   \n",
       "...                        ...        ...   \n",
       "24991  klue-nli-v1_train_24991       NSMC   \n",
       "24992  klue-nli-v1_train_24992       NSMC   \n",
       "24993  klue-nli-v1_train_24993   wikitree   \n",
       "24995  klue-nli-v1_train_24995   wikitree   \n",
       "24996  klue-nli-v1_train_24996       NSMC   \n",
       "\n",
       "                                                 premise  \\\n",
       "0                               힛걸 진심 최고다 그 어떤 히어로보다 멋지다   \n",
       "1                                100분간 잘껄 그래도 소닉붐땜에 2점준다   \n",
       "4                               101빌딩 근처에 나름 즐길거리가 많습니다.   \n",
       "6                               101빌딩 근처에 나름 즐길거리가 많습니다.   \n",
       "7      10년 만에 찾는 피터를 웬디는 따뜻하게 맞이하고 피터는 성공리에 연설을 마치는데 ...   \n",
       "...                                                  ...   \n",
       "24991                        히틀러와 당시 독일의 상황 속에 들어간 듯 하다.   \n",
       "24992                        히틀러와 당시 독일의 상황 속에 들어간 듯 하다.   \n",
       "24993           힐링푸드 전문가 양성 교육 참여, 개발 음식 활용 등의 혜택도 주어진다.   \n",
       "24995           힐링푸드 전문가 양성 교육 참여, 개발 음식 활용 등의 혜택도 주어진다.   \n",
       "24996                           힛걸 진심 최고다 그 어떤 히어로보다 멋지다   \n",
       "\n",
       "                        hypothesis  label  \n",
       "0                   힛걸 진심 최고로 멋지다.      0  \n",
       "1                        100분간 잤다.      2  \n",
       "4       101빌딩 근처에서 즐길거리 찾기는 어렵습니다.      2  \n",
       "6      101빌딩 부근에서는 여러가지를 즐길수 있습니다.      0  \n",
       "7                웬디는 피터를 차갑게 맞이했다.      2  \n",
       "...                            ...    ...  \n",
       "24991    당시 독일의 상황을 간접적으로 느낀 듯 하다.      0  \n",
       "24992       당시 독일의 상황 속에 들어간 듯 하다.      0  \n",
       "24993           개발 음식 활용 혜택만 주어진다.      2  \n",
       "24995  혜택에는 힐링푸드 전문가 양성 교육 참여가 있다.      0  \n",
       "24996           힛걸 그 어떤 히어로보다 별로다.      2  \n",
       "\n",
       "[17050 rows x 5 columns]"
      ]
     },
     "execution_count": 103,
     "metadata": {},
     "output_type": "execute_result"
    }
   ],
   "source": [
    "drop_df"
   ]
  },
  {
   "cell_type": "code",
   "execution_count": 121,
   "metadata": {},
   "outputs": [],
   "source": [
    "new_df = pd.DataFrame()\n",
    "new_df['input'] = drop_df['premise']"
   ]
  },
  {
   "cell_type": "code",
   "execution_count": 122,
   "metadata": {},
   "outputs": [],
   "source": [
    "new_df.drop_duplicates(inplace = True)"
   ]
  },
  {
   "cell_type": "code",
   "execution_count": 123,
   "metadata": {},
   "outputs": [],
   "source": [
    "new_df['postive'] =None\n",
    "new_df['negative']=None\n",
    "for i in range(0, new_df.shape[0]):\n",
    "          row = new_df.iloc[i]\n",
    "          new_df['postive'].iloc[i] = df.loc[(df['premise']==row['input'])&(df['label']==0),'hypothesis']\n",
    "          new_df['negative'].iloc[i] = df.loc[(df['premise']==row['input'])&(df['label']==2),'hypothesis']\n"
   ]
  },
  {
   "cell_type": "code",
   "execution_count": 124,
   "metadata": {},
   "outputs": [],
   "source": [
    "new_df['postive']=new_df['postive'].apply(lambda x: x[0] if len(x)>0 else None)\n",
    "new_df['negative']=new_df['negative'].apply(lambda x: x[0] if len(x)>0 else None)"
   ]
  },
  {
   "cell_type": "code",
   "execution_count": 145,
   "metadata": {},
   "outputs": [
    {
     "data": {
      "text/plain": [
       "0"
      ]
     },
     "execution_count": 145,
     "metadata": {},
     "output_type": "execute_result"
    }
   ],
   "source": [
    "new_df['postive'].isnull().sum()"
   ]
  },
  {
   "cell_type": "code",
   "execution_count": 146,
   "metadata": {},
   "outputs": [
    {
     "data": {
      "text/plain": [
       "0"
      ]
     },
     "execution_count": 146,
     "metadata": {},
     "output_type": "execute_result"
    }
   ],
   "source": [
    "new_df['negative'].isnull().sum()"
   ]
  },
  {
   "cell_type": "code",
   "execution_count": 143,
   "metadata": {},
   "outputs": [],
   "source": [
    "new_df=new_df.dropna(subset=['postive','negative'])"
   ]
  },
  {
   "cell_type": "code",
   "execution_count": 147,
   "metadata": {},
   "outputs": [
    {
     "data": {
      "text/html": [
       "<div>\n",
       "<style scoped>\n",
       "    .dataframe tbody tr th:only-of-type {\n",
       "        vertical-align: middle;\n",
       "    }\n",
       "\n",
       "    .dataframe tbody tr th {\n",
       "        vertical-align: top;\n",
       "    }\n",
       "\n",
       "    .dataframe thead th {\n",
       "        text-align: right;\n",
       "    }\n",
       "</style>\n",
       "<table border=\"1\" class=\"dataframe\">\n",
       "  <thead>\n",
       "    <tr style=\"text-align: right;\">\n",
       "      <th></th>\n",
       "      <th>input</th>\n",
       "      <th>postive</th>\n",
       "      <th>negative</th>\n",
       "    </tr>\n",
       "  </thead>\n",
       "  <tbody>\n",
       "    <tr>\n",
       "      <th>0</th>\n",
       "      <td>힛걸 진심 최고다 그 어떤 히어로보다 멋지다</td>\n",
       "      <td>힛걸 진심 최고로 멋지다.</td>\n",
       "      <td>힛걸 그 어떤 히어로보다 별로다.</td>\n",
       "    </tr>\n",
       "    <tr>\n",
       "      <th>4</th>\n",
       "      <td>101빌딩 근처에 나름 즐길거리가 많습니다.</td>\n",
       "      <td>101빌딩 부근에서는 여러가지를 즐길수 있습니다.</td>\n",
       "      <td>101빌딩 근처에서 즐길거리 찾기는 어렵습니다.</td>\n",
       "    </tr>\n",
       "    <tr>\n",
       "      <th>7</th>\n",
       "      <td>10년 만에 찾는 피터를 웬디는 따뜻하게 맞이하고 피터는 성공리에 연설을 마치는데 ...</td>\n",
       "      <td>피터 배닝, 잭, 매기는 남매사이다.</td>\n",
       "      <td>웬디는 피터를 차갑게 맞이했다.</td>\n",
       "    </tr>\n",
       "    <tr>\n",
       "      <th>10</th>\n",
       "      <td>10년 전 한 병원에서 입원 중인 한 소녀가 실종되는 사건이 일어나지만, 목격자도 ...</td>\n",
       "      <td>10년 전 한 병원에서 입원 중인 소녀가 실종된다.</td>\n",
       "      <td>병원에서 실종된 소녀는 경찰들의 수사덕에 하루만에 돌아온다.</td>\n",
       "    </tr>\n",
       "    <tr>\n",
       "      <th>13</th>\n",
       "      <td>10년 전, 공동육아를 매개로 성미산 마을에 들어와 산 강석필, 홍형숙 부부는 맥가...</td>\n",
       "      <td>강석필, 홍형숙 부부가 성미산 마을에 들어온 것은 10년전이다.</td>\n",
       "      <td>강석필, 홍형숙 부부가 성미산 마을에 들어온 이유는 요양이었다.</td>\n",
       "    </tr>\n",
       "    <tr>\n",
       "      <th>...</th>\n",
       "      <td>...</td>\n",
       "      <td>...</td>\n",
       "      <td>...</td>\n",
       "    </tr>\n",
       "    <tr>\n",
       "      <th>24981</th>\n",
       "      <td>희수는 병원을 다녀온 엄마의 행동에 이상함을 느끼고 캐묻고, 엄마의 생이 얼마 남지...</td>\n",
       "      <td>엄마는 살 날이 오래 남지는 않았다.</td>\n",
       "      <td>엄마의 병이 호전되었다는 사실에 희수는 기뻐한다.</td>\n",
       "    </tr>\n",
       "    <tr>\n",
       "      <th>24984</th>\n",
       "      <td>희영은 아내와 사별하고 아들과 단둘이 살고 있는 성현에게 설렘을 느낀다.</td>\n",
       "      <td>성현의 아내는 죽었다.</td>\n",
       "      <td>성현은 아내와 이혼하고 혼자 살고있다.</td>\n",
       "    </tr>\n",
       "    <tr>\n",
       "      <th>24988</th>\n",
       "      <td>히말라야의 바람은 감독의 머리속에서만 머문다</td>\n",
       "      <td>히말라야의 바람은 감독의 머리 안에서만 머문다.</td>\n",
       "      <td>히말라야의 바람은 감독의 머리 속에서 머물지 않았다.</td>\n",
       "    </tr>\n",
       "    <tr>\n",
       "      <th>24990</th>\n",
       "      <td>히틀러와 당시 독일의 상황 속에 들어간 듯 하다.</td>\n",
       "      <td>당시 독일의 상황을 간접적으로 느낀 듯 하다.</td>\n",
       "      <td>당시 독일의 상황 속에 들어가지 못한 듯 하다.</td>\n",
       "    </tr>\n",
       "    <tr>\n",
       "      <th>24993</th>\n",
       "      <td>힐링푸드 전문가 양성 교육 참여, 개발 음식 활용 등의 혜택도 주어진다.</td>\n",
       "      <td>혜택에는 힐링푸드 전문가 양성 교육 참여가 있다.</td>\n",
       "      <td>개발 음식 활용 혜택만 주어진다.</td>\n",
       "    </tr>\n",
       "  </tbody>\n",
       "</table>\n",
       "<p>8047 rows × 3 columns</p>\n",
       "</div>"
      ],
      "text/plain": [
       "                                                   input  \\\n",
       "0                               힛걸 진심 최고다 그 어떤 히어로보다 멋지다   \n",
       "4                               101빌딩 근처에 나름 즐길거리가 많습니다.   \n",
       "7      10년 만에 찾는 피터를 웬디는 따뜻하게 맞이하고 피터는 성공리에 연설을 마치는데 ...   \n",
       "10     10년 전 한 병원에서 입원 중인 한 소녀가 실종되는 사건이 일어나지만, 목격자도 ...   \n",
       "13     10년 전, 공동육아를 매개로 성미산 마을에 들어와 산 강석필, 홍형숙 부부는 맥가...   \n",
       "...                                                  ...   \n",
       "24981  희수는 병원을 다녀온 엄마의 행동에 이상함을 느끼고 캐묻고, 엄마의 생이 얼마 남지...   \n",
       "24984           희영은 아내와 사별하고 아들과 단둘이 살고 있는 성현에게 설렘을 느낀다.   \n",
       "24988                           히말라야의 바람은 감독의 머리속에서만 머문다   \n",
       "24990                        히틀러와 당시 독일의 상황 속에 들어간 듯 하다.   \n",
       "24993           힐링푸드 전문가 양성 교육 참여, 개발 음식 활용 등의 혜택도 주어진다.   \n",
       "\n",
       "                                   postive  \\\n",
       "0                           힛걸 진심 최고로 멋지다.   \n",
       "4              101빌딩 부근에서는 여러가지를 즐길수 있습니다.   \n",
       "7                     피터 배닝, 잭, 매기는 남매사이다.   \n",
       "10            10년 전 한 병원에서 입원 중인 소녀가 실종된다.   \n",
       "13     강석필, 홍형숙 부부가 성미산 마을에 들어온 것은 10년전이다.   \n",
       "...                                    ...   \n",
       "24981                 엄마는 살 날이 오래 남지는 않았다.   \n",
       "24984                         성현의 아내는 죽었다.   \n",
       "24988           히말라야의 바람은 감독의 머리 안에서만 머문다.   \n",
       "24990            당시 독일의 상황을 간접적으로 느낀 듯 하다.   \n",
       "24993          혜택에는 힐링푸드 전문가 양성 교육 참여가 있다.   \n",
       "\n",
       "                                  negative  \n",
       "0                       힛걸 그 어떤 히어로보다 별로다.  \n",
       "4               101빌딩 근처에서 즐길거리 찾기는 어렵습니다.  \n",
       "7                        웬디는 피터를 차갑게 맞이했다.  \n",
       "10       병원에서 실종된 소녀는 경찰들의 수사덕에 하루만에 돌아온다.  \n",
       "13     강석필, 홍형숙 부부가 성미산 마을에 들어온 이유는 요양이었다.  \n",
       "...                                    ...  \n",
       "24981          엄마의 병이 호전되었다는 사실에 희수는 기뻐한다.  \n",
       "24984                성현은 아내와 이혼하고 혼자 살고있다.  \n",
       "24988        히말라야의 바람은 감독의 머리 속에서 머물지 않았다.  \n",
       "24990           당시 독일의 상황 속에 들어가지 못한 듯 하다.  \n",
       "24993                   개발 음식 활용 혜택만 주어진다.  \n",
       "\n",
       "[8047 rows x 3 columns]"
      ]
     },
     "execution_count": 147,
     "metadata": {},
     "output_type": "execute_result"
    }
   ],
   "source": [
    "new_df"
   ]
  }
 ],
 "metadata": {
  "kernelspec": {
   "display_name": "main",
   "language": "python",
   "name": "python3"
  },
  "language_info": {
   "codemirror_mode": {
    "name": "ipython",
    "version": 3
   },
   "file_extension": ".py",
   "mimetype": "text/x-python",
   "name": "python",
   "nbconvert_exporter": "python",
   "pygments_lexer": "ipython3",
   "version": "3.9.16"
  },
  "orig_nbformat": 4
 },
 "nbformat": 4,
 "nbformat_minor": 2
}
