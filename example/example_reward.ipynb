{
 "cells": [
  {
   "cell_type": "code",
   "execution_count": 1,
   "metadata": {},
   "outputs": [
    {
     "name": "stdout",
     "output_type": "stream",
     "text": [
      "[2023-08-08 23:09:12,744] [INFO] [real_accelerator.py:110:get_accelerator] Setting ds_accelerator to cuda (auto detect)\n"
     ]
    }
   ],
   "source": [
    "from transformers import pipeline"
   ]
  },
  {
   "cell_type": "code",
   "execution_count": 2,
   "metadata": {},
   "outputs": [],
   "source": [
    "model = pipeline(\"text-classification\", \"../checkpoint/koflan-base-0731/epoch-9\")\n",
    "model.tokenizer.truncation_side = 'left'"
   ]
  },
  {
   "cell_type": "code",
   "execution_count": 6,
   "metadata": {},
   "outputs": [],
   "source": [
    "# id = \"iknow-lab/ko-flan-zero-v0-0731\"\n",
    "# model.model.push_to_hub(id)\n",
    "# model.tokenizer.push_to_hub(id)\n",
    "tokenizer = model.tokenizer\n",
    "model = model.model"
   ]
  },
  {
   "cell_type": "code",
   "execution_count": 24,
   "metadata": {},
   "outputs": [
    {
     "name": "stdout",
     "output_type": "stream",
     "text": [
      "아 영화 개노잼 [SEP] 문장을 감성분류해주세요\n",
      "{'긍정적': -7.878206253051758, '부정적': 50.96009826660156}\n",
      "예전에는 주말마다 극장에 놀러갔는데 요새는 좀 안가는 편이에요 [SEP] 글과 관련된 내용을 만들어주세요\n",
      "{'영화에 관한 글이다': 25.37109375, '드라마에 관한 글입니다': -31.869916915893555}\n",
      "예전에는 주말마다 극장에 놀러갔는데 요새는 좀 안가는 편이에요 [SEP] 댓글 주제를 분류해주세요\n",
      "{'영화': 45.236534118652344, '드라마': -47.70695877075195}\n"
     ]
    }
   ],
   "source": [
    "def inference(instruction, input, labels):\n",
    "    instruction = f\"{input} [SEP] {instruction}\"\n",
    "    inputs = tokenizer([instruction] * len(labels), labels, truncation=True, padding=True, return_tensors=\"pt\")\n",
    "    \n",
    "    scores = model(**inputs).logits.squeeze(1).tolist()\n",
    "    output = dict(zip(labels, scores))\n",
    "\n",
    "    print(instruction)\n",
    "    print(output)\n",
    "\n",
    "inference(\n",
    "    \"문장을 감성분류해주세요\",\n",
    "    \"아 영화 개노잼\",\n",
    "    [\"긍정적\", \"부정적\"]\n",
    ")\n",
    "\n",
    "inference(\n",
    "    \"글과 관련된 내용을 만들어주세요\",\n",
    "    \"예전에는 주말마다 극장에 놀러갔는데 요새는 좀 안가는 편이에요\",\n",
    "    [\"영화에 관한 글이다\", \"드라마에 관한 글입니다\"]\n",
    ")\n",
    "\n",
    "inference(\n",
    "    \"댓글 주제를 분류해주세요\",\n",
    "    \"예전에는 주말마다 극장에 놀러갔는데 요새는 좀 안가는 편이에요\",\n",
    "    [\"영화\", \"드라마\"]\n",
    ")"
   ]
  },
  {
   "cell_type": "code",
   "execution_count": 25,
   "metadata": {},
   "outputs": [
    {
     "name": "stdout",
     "output_type": "stream",
     "text": [
      "인천발 KTX와 관련한 송도역 복합환승센터가 사실상 무산, 단순 철도·버스 위주 환승시설로 만들어진다. 이 때문에 인천시의 인천발 KTX 기점에 앵커시설인 복합환승센터를 통한 인근 지역 경제 활성화를 이뤄낸다는 계획의 차질이 불가피하다.\n",
      "\n",
      "25일 시에 따르면 연수구 옥련동 104 일대 29만1천725㎡(8만8천평)에 추진 중인 2만8천62가구 규모의 송도역세권구역 도시개발사업과 연계, KTX 송도역 복합환승센터와 상업시설·업무시설 등의 조성을 추진 중이다.  [SEP] 글을 읽고 시장에 미칠 영향을 판단해보세요\n",
      "{'주가가 오른다': -29.510114669799805, '주가가 떨어진다': -16.428024291992188}\n",
      "인천발 KTX와 관련한 송도역 복합환승센터가 사실상 무산, 단순 철도·버스 위주 환승시설로 만들어진다. 이 때문에 인천시의 인천발 KTX 기점에 앵커시설인 복합환승센터를 통한 인근 지역 경제 활성화를 이뤄낸다는 계획의 차질이 불가피하다.\n",
      "\n",
      "25일 시에 따르면 연수구 옥련동 104 일대 29만1천725㎡(8만8천평)에 추진 중인 2만8천62가구 규모의 송도역세권구역 도시개발사업과 연계, KTX 송도역 복합환승센터와 상업시설·업무시설 등의 조성을 추진 중이다.  [SEP] 글을 읽고 시장에 미칠 영향을 판단해보세요\n",
      "{'긍정': -61.86758804321289, '부정': 23.72732925415039, '중립': -70.4837417602539}\n"
     ]
    }
   ],
   "source": [
    "\n",
    "inference(\n",
    "    \"글을 읽고 시장에 미칠 영향을 판단해보세요\",\n",
    "    \"\"\"인천발 KTX와 관련한 송도역 복합환승센터가 사실상 무산, 단순 철도·버스 위주 환승시설로 만들어진다. 이 때문에 인천시의 인천발 KTX 기점에 앵커시설인 복합환승센터를 통한 인근 지역 경제 활성화를 이뤄낸다는 계획의 차질이 불가피하다.\n",
    "\n",
    "25일 시에 따르면 연수구 옥련동 104 일대 29만1천725㎡(8만8천평)에 추진 중인 2만8천62가구 규모의 송도역세권구역 도시개발사업과 연계, KTX 송도역 복합환승센터와 상업시설·업무시설 등의 조성을 추진 중이다. \"\"\",\n",
    "    [\"주가가 오른다\", \"주가가 떨어진다\"]\n",
    ")\n",
    "\n",
    "inference(\n",
    "    \"글을 읽고 시장에 미칠 영향을 판단해보세요\",\n",
    "    \"\"\"인천발 KTX와 관련한 송도역 복합환승센터가 사실상 무산, 단순 철도·버스 위주 환승시설로 만들어진다. 이 때문에 인천시의 인천발 KTX 기점에 앵커시설인 복합환승센터를 통한 인근 지역 경제 활성화를 이뤄낸다는 계획의 차질이 불가피하다.\n",
    "\n",
    "25일 시에 따르면 연수구 옥련동 104 일대 29만1천725㎡(8만8천평)에 추진 중인 2만8천62가구 규모의 송도역세권구역 도시개발사업과 연계, KTX 송도역 복합환승센터와 상업시설·업무시설 등의 조성을 추진 중이다. \"\"\",\n",
    "    [\"긍정\", \"부정\", \"중립\"]\n",
    ")"
   ]
  }
 ],
 "metadata": {
  "kernelspec": {
   "display_name": "base",
   "language": "python",
   "name": "python3"
  },
  "language_info": {
   "codemirror_mode": {
    "name": "ipython",
    "version": 3
   },
   "file_extension": ".py",
   "mimetype": "text/x-python",
   "name": "python",
   "nbconvert_exporter": "python",
   "pygments_lexer": "ipython3",
   "version": "3.9.13"
  },
  "orig_nbformat": 4
 },
 "nbformat": 4,
 "nbformat_minor": 2
}
