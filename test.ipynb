{
 "cells": [
  {
   "cell_type": "code",
   "execution_count": 13,
   "metadata": {},
   "outputs": [],
   "source": [
    "import sys\n",
    "import pandas as pd\n",
    "from numpy import split\n",
    "import numpy as np\n",
    "\n",
    "sys.path.append('/Users/yuksehyun/Desktop/ko-flan/task'  )\n",
    "\n",
    "from base import BaseGenerator\n",
    "from datasets import load_dataset\n"
   ]
  },
  {
   "cell_type": "code",
   "execution_count": 203,
   "metadata": {},
   "outputs": [
    {
     "name": "stdout",
     "output_type": "stream",
     "text": [
      "zsh:1: command not found: path\n"
     ]
    }
   ],
   "source": [
    "!path"
   ]
  },
  {
   "cell_type": "code",
   "execution_count": 220,
   "metadata": {},
   "outputs": [
    {
     "name": "stdout",
     "output_type": "stream",
     "text": [
      "['/Users/yuksehyun/Desktop/ko-flan/task/KLUE_MRC', '/Users/yuksehyun/anaconda3/envs/main/lib/python39.zip', '/Users/yuksehyun/anaconda3/envs/main/lib/python3.9', '/Users/yuksehyun/anaconda3/envs/main/lib/python3.9/lib-dynload', '', '/Users/yuksehyun/anaconda3/envs/main/lib/python3.9/site-packages', '/Users/yuksehyun/Desktop/ko-flan/task', '/Users/yuksehyun/Desktop/ko-flan/task', '/Users/yuksehyun/Desktop/ko-flan/task', '/Users/yuksehyun/Desktop/ko-flan/task', '/Users/yuksehyun/Desktop/ko-flan/task', '/Users/yuksehyun/Desktop/ko-flan/task', '/Users/yuksehyun/Desktop/ko-flan/task', '/Users/yuksehyun/Desktop/ko-flan/task', '/Users/yuksehyun/Desktop/ko-flan/task', '/Users/yuksehyun/Desktop/ko-flan/task', '/Users/yuksehyun/Desktop/ko-flan/task', '/Users/yuksehyun/Desktop/ko-flan/task', '/Users/yuksehyun/.cache/huggingface/modules', '/Users/yuksehyun/Desktop/ko-flan/task', '/Users/yuksehyun/Desktop/ko-flan/task']\n"
     ]
    }
   ],
   "source": [
    "import sys\n",
    "print(sys.path)"
   ]
  },
  {
   "cell_type": "code",
   "execution_count": 213,
   "metadata": {},
   "outputs": [
    {
     "name": "stdout",
     "output_type": "stream",
     "text": [
      "/Users/yuksehyun/anaconda3/envs/main/bin/python: No module named /Users/yuksehyun/Desktop/ko-flan/task/run\n"
     ]
    }
   ],
   "source": [
    "!python -m /Users/yuksehyun/Desktop/ko-flan/task/run"
   ]
  },
  {
   "cell_type": "code",
   "execution_count": null,
   "metadata": {},
   "outputs": [],
   "source": [
    "\n",
    "\n",
    "dataset = load_dataset(\"klue\",'mrc', split=\"train\")"
   ]
  },
  {
   "cell_type": "code",
   "execution_count": null,
   "metadata": {},
   "outputs": [],
   "source": [
    "df = pd.DataFrame(dataset)"
   ]
  },
  {
   "cell_type": "code",
   "execution_count": 76,
   "metadata": {},
   "outputs": [],
   "source": [
    "# make Not Null in category\n",
    "df['news_category'] = df['news_category'].fillna(0)"
   ]
  },
  {
   "cell_type": "code",
   "execution_count": 44,
   "metadata": {},
   "outputs": [],
   "source": [
    "import random\n",
    "# make postive , instruction ,input\n",
    "new_df = pd.DataFrame()\n",
    "new_df2=pd.DataFrame()\n",
    "new_df['instruction'] = df['question']\n",
    "new_df['input'] = df['context']\n",
    "new_df['postive']= df['answers'].apply(lambda x: x['text'])\n"
   ]
  },
  {
   "cell_type": "code",
   "execution_count": 100,
   "metadata": {},
   "outputs": [],
   "source": [
    "## make nagtive\n",
    "\n",
    "for i in range(0, df.shape[0]):\n",
    "          row = df.iloc[i]\n",
    "          same_title_df = df.loc[(df['title']==row['title']) &  (df['answers'] != row['answers']),'answers']\n",
    "          if(same_title_df.isnull().all()):\n",
    "            new_df['negative'].iloc[i] =  np.random.choice(df.loc[( df['news_category']== row['news_category']) &(df['answers'] != row['answers']),'answers'])['text'][0]\n",
    "          else:\n",
    "            new_df['negative'].iloc[i] =  np.random.choice(same_title_df)['text'][0]\n",
    "\n"
   ]
  },
  {
   "cell_type": "code",
   "execution_count": null,
   "metadata": {},
   "outputs": [],
   "source": [
    "new_df"
   ]
  },
  {
   "cell_type": "code",
   "execution_count": null,
   "metadata": {},
   "outputs": [],
   "source": [
    "new_df2['negative']= df.apply(lambda x: np.random.choice(df.loc[(((df['title']==x['title'])) & df['answers'] != x['answers']) ,'answers']),axis=1)\n"
   ]
  },
  {
   "cell_type": "code",
   "execution_count": 58,
   "metadata": {},
   "outputs": [],
   "source": [
    "negative_df = df.apply(lambda x:(df.loc[(df['title']==x['title'])&(df['answers'] != x['answers']),'answers']),axis=1)"
   ]
  },
  {
   "cell_type": "code",
   "execution_count": null,
   "metadata": {},
   "outputs": [],
   "source": [
    "negative_df"
   ]
  },
  {
   "cell_type": "code",
   "execution_count": null,
   "metadata": {},
   "outputs": [],
   "source": [
    "negative_df.isnull().all().value_counts()"
   ]
  },
  {
   "cell_type": "code",
   "execution_count": null,
   "metadata": {},
   "outputs": [],
   "source": [
    "negative_category_df = df.apply(lambda x:(df.loc[(df['news_category']==x['news_category'])&(df['answers'] != x['answers']),'answers']),axis=1)"
   ]
  },
  {
   "cell_type": "code",
   "execution_count": null,
   "metadata": {},
   "outputs": [],
   "source": [
    "negative_category_df"
   ]
  },
  {
   "cell_type": "code",
   "execution_count": null,
   "metadata": {},
   "outputs": [],
   "source": [
    "negative_category_df.isnull().all().value_counts()"
   ]
  }
 ],
 "metadata": {
  "kernelspec": {
   "display_name": "main",
   "language": "python",
   "name": "python3"
  },
  "language_info": {
   "codemirror_mode": {
    "name": "ipython",
    "version": 3
   },
   "file_extension": ".py",
   "mimetype": "text/x-python",
   "name": "python",
   "nbconvert_exporter": "python",
   "pygments_lexer": "ipython3",
   "version": "3.9.16"
  },
  "orig_nbformat": 4
 },
 "nbformat": 4,
 "nbformat_minor": 2
}
